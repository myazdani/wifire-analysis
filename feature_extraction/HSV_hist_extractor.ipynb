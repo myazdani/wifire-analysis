{
 "metadata": {
  "name": "",
  "signature": "sha256:9f1e9e4c3558e9ae25d6e58f4d5bf312b42412549c974bad251640eca98fa48d"
 },
 "nbformat": 3,
 "nbformat_minor": 0,
 "worksheets": [
  {
   "cells": [
    {
     "cell_type": "code",
     "collapsed": false,
     "input": [
      "import os\n",
      "import cv2\n",
      "import csv\n",
      "from pylab import *\n",
      "import scipy\n",
      "import scipy.misc\n",
      "from PIL import Image\n",
      "from skimage.util.shape import view_as_blocks, view_as_windows\n",
      "from joblib import Parallel, delayed\n",
      "import numpy as np\n",
      "from scipy import stats\n",
      "import cPickle as pickle\n",
      "%matplotlib inline"
     ],
     "language": "python",
     "metadata": {},
     "outputs": [],
     "prompt_number": 1
    },
    {
     "cell_type": "code",
     "collapsed": false,
     "input": [
      "src_path, image_type = \"/Users/myazdaniUCSD/Documents/scraping_scripts/output/\", \".jpg\"\n",
      "image_paths = []\n",
      "for root, dirs, files in os.walk(src_path):\n",
      "    image_paths.extend([os.path.join(root, f) for f in files if f.endswith(image_type)])"
     ],
     "language": "python",
     "metadata": {},
     "outputs": [],
     "prompt_number": 2
    },
    {
     "cell_type": "code",
     "collapsed": false,
     "input": [
      "def HSVhist_cv(im_path, num_blocks):\n",
      "    # read image\n",
      "    im = cv2.imread(im_path)\n",
      "    im = cv2.cvtColor(im, cv2.COLOR_BGR2HSV)\n",
      "    if str(type(im)) == \"<type 'NoneType'>\":\n",
      "        return None\n",
      "    # set block step sizes\n",
      "    step_x = im.shape[0]/num_blocks\n",
      "    step_y = im.shape[1]/num_blocks\n",
      "    hists = {}\n",
      "    for i in range(num_blocks):\n",
      "            for j in range(num_blocks):\n",
      "                # set starting and ending indices for row blocks\n",
      "                if i < (num_blocks-1): \n",
      "                    start_x, end_x = i*step_x, (i+1)*step_x\n",
      "                # deal with the edge case row blocks\n",
      "                else:\n",
      "                    start_x, end_x = i*step_x, im.shape[0]\n",
      "                # set starting and ending indices for vertical blocks\n",
      "                if j < (num_blocks-1):\n",
      "                    start_y, end_y = j*step_y, (j+1)*step_y\n",
      "                # deal with the edge case vertical blocks\n",
      "                else:\n",
      "                    start_y, end_y = j*step_y, im.shape[1]    \n",
      "                #copy image into block\n",
      "                im_block = im[start_x:end_x, start_y:end_y,:].copy()\n",
      "                hist_channels = []\n",
      "                for channel in range(3): \n",
      "                    if channel == 0:\n",
      "                        hist_channels.append(cv2.calcHist([im_block],[channel],None,[180],[0,180]))\n",
      "                    else:\n",
      "                        hist_channels.append(cv2.calcHist([im_block],[channel],None,[256],[0,256]))\n",
      "                hists[(start_x, end_x, start_y, end_y)] = hist_channels\n",
      "    return hists\n",
      "\n",
      "def HSVhist_pretty(image_path):\n",
      "    hists = HSVhist_cv(image_path, 1)\n",
      "    ## flatten list of lists (list of histogram lists)\n",
      "    l = hists[hists.keys()[0]]\n",
      "    return [item for sublist in l for item in sublist]"
     ],
     "language": "python",
     "metadata": {},
     "outputs": [],
     "prompt_number": 3
    },
    {
     "cell_type": "code",
     "collapsed": false,
     "input": [
      "def chunks(l, n):\n",
      "    \"\"\" Yield successive n-sized chunks from l.\n",
      "    \"\"\"\n",
      "    for i in xrange(0, len(l), n):\n",
      "        yield l[i:i+n]\n"
     ],
     "language": "python",
     "metadata": {},
     "outputs": [],
     "prompt_number": 4
    },
    {
     "cell_type": "code",
     "collapsed": false,
     "input": [
      "chunk_size = 50\n",
      "print \"number of images is\", len(image_paths)\n",
      "image_paths_chunks = list(chunks(image_paths, chunk_size))\n",
      "print \"number of chunks is\", len(image_paths_chunks)"
     ],
     "language": "python",
     "metadata": {},
     "outputs": [
      {
       "output_type": "stream",
       "stream": "stdout",
       "text": [
        "number of images is 2244\n",
        "number of chunks is 45\n"
       ]
      }
     ],
     "prompt_number": 7
    },
    {
     "cell_type": "code",
     "collapsed": false,
     "input": [
      "def get_HSV_hist_chunks(image_paths_chunk):\n",
      "    return [[image_path, HSVhist_pretty(image_path)] for image_path in image_paths_chunk]"
     ],
     "language": "python",
     "metadata": {},
     "outputs": [],
     "prompt_number": 8
    },
    {
     "cell_type": "code",
     "collapsed": false,
     "input": [
      "csvfile = open(\"output_SD.csv\", \"a\")\n",
      "resultswrtier = csv.writer(csvfile, delimiter = \",\")"
     ],
     "language": "python",
     "metadata": {},
     "outputs": [],
     "prompt_number": 9
    },
    {
     "cell_type": "code",
     "collapsed": false,
     "input": [
      "def write_to_file(res):\n",
      "    for r in res:\n",
      "        try:\n",
      "            row = [r[0]]\n",
      "            temp = [float(hist_val) for hist_val in r[1]]\n",
      "            row.extend(temp)\n",
      "            resultswrtier.writerow(row)\n",
      "        except:\n",
      "            print r[0],\"failed\" "
     ],
     "language": "python",
     "metadata": {},
     "outputs": [],
     "prompt_number": 10
    },
    {
     "cell_type": "code",
     "collapsed": false,
     "input": [
      "for i, image_paths_chunk in enumerate(image_paths_chunks):\n",
      "    print \"chunk\", i\n",
      "    result = get_HSV_hist_chunks(image_paths_chunk)\n",
      "    write_to_file(result)\n",
      "\n",
      "csvfile.close()"
     ],
     "language": "python",
     "metadata": {},
     "outputs": [
      {
       "output_type": "stream",
       "stream": "stdout",
       "text": [
        "chunk 0\n",
        "chunk"
       ]
      },
      {
       "output_type": "stream",
       "stream": "stdout",
       "text": [
        " 1\n",
        "chunk"
       ]
      },
      {
       "output_type": "stream",
       "stream": "stdout",
       "text": [
        " 2\n",
        "chunk"
       ]
      },
      {
       "output_type": "stream",
       "stream": "stdout",
       "text": [
        " 3\n",
        "chunk"
       ]
      },
      {
       "output_type": "stream",
       "stream": "stdout",
       "text": [
        " 4\n",
        "chunk"
       ]
      },
      {
       "output_type": "stream",
       "stream": "stdout",
       "text": [
        " 5\n",
        "chunk"
       ]
      },
      {
       "output_type": "stream",
       "stream": "stdout",
       "text": [
        " 6\n",
        "chunk"
       ]
      },
      {
       "output_type": "stream",
       "stream": "stdout",
       "text": [
        " 7\n",
        "chunk"
       ]
      },
      {
       "output_type": "stream",
       "stream": "stdout",
       "text": [
        " 8\n",
        "chunk"
       ]
      },
      {
       "output_type": "stream",
       "stream": "stdout",
       "text": [
        " 9\n",
        "chunk"
       ]
      },
      {
       "output_type": "stream",
       "stream": "stdout",
       "text": [
        " 10\n",
        "chunk"
       ]
      },
      {
       "output_type": "stream",
       "stream": "stdout",
       "text": [
        " 11\n",
        "chunk"
       ]
      },
      {
       "output_type": "stream",
       "stream": "stdout",
       "text": [
        " 12\n",
        "chunk"
       ]
      },
      {
       "output_type": "stream",
       "stream": "stdout",
       "text": [
        " 13\n",
        "chunk"
       ]
      },
      {
       "output_type": "stream",
       "stream": "stdout",
       "text": [
        " 14\n",
        "chunk"
       ]
      },
      {
       "output_type": "stream",
       "stream": "stdout",
       "text": [
        " 15\n",
        "chunk"
       ]
      },
      {
       "output_type": "stream",
       "stream": "stdout",
       "text": [
        " 16\n",
        "chunk"
       ]
      },
      {
       "output_type": "stream",
       "stream": "stdout",
       "text": [
        " 17\n",
        "chunk"
       ]
      },
      {
       "output_type": "stream",
       "stream": "stdout",
       "text": [
        " 18\n",
        "chunk"
       ]
      },
      {
       "output_type": "stream",
       "stream": "stdout",
       "text": [
        " 19\n",
        "chunk"
       ]
      },
      {
       "output_type": "stream",
       "stream": "stdout",
       "text": [
        " 20\n",
        "chunk"
       ]
      },
      {
       "output_type": "stream",
       "stream": "stdout",
       "text": [
        " 21\n",
        "chunk"
       ]
      },
      {
       "output_type": "stream",
       "stream": "stdout",
       "text": [
        " 22\n",
        "chunk"
       ]
      },
      {
       "output_type": "stream",
       "stream": "stdout",
       "text": [
        " 23\n",
        "chunk"
       ]
      },
      {
       "output_type": "stream",
       "stream": "stdout",
       "text": [
        " 24\n",
        "chunk"
       ]
      },
      {
       "output_type": "stream",
       "stream": "stdout",
       "text": [
        " 25\n",
        "chunk"
       ]
      },
      {
       "output_type": "stream",
       "stream": "stdout",
       "text": [
        " 26\n",
        "chunk"
       ]
      },
      {
       "output_type": "stream",
       "stream": "stdout",
       "text": [
        " 27\n",
        "chunk"
       ]
      },
      {
       "output_type": "stream",
       "stream": "stdout",
       "text": [
        " 28\n",
        "chunk"
       ]
      },
      {
       "output_type": "stream",
       "stream": "stdout",
       "text": [
        " 29\n",
        "chunk"
       ]
      },
      {
       "output_type": "stream",
       "stream": "stdout",
       "text": [
        " 30\n",
        "chunk"
       ]
      },
      {
       "output_type": "stream",
       "stream": "stdout",
       "text": [
        " 31\n",
        "chunk"
       ]
      },
      {
       "output_type": "stream",
       "stream": "stdout",
       "text": [
        " 32\n",
        "chunk"
       ]
      },
      {
       "output_type": "stream",
       "stream": "stdout",
       "text": [
        " 33\n",
        "chunk"
       ]
      },
      {
       "output_type": "stream",
       "stream": "stdout",
       "text": [
        " 34\n",
        "chunk"
       ]
      },
      {
       "output_type": "stream",
       "stream": "stdout",
       "text": [
        " 35\n",
        "chunk"
       ]
      },
      {
       "output_type": "stream",
       "stream": "stdout",
       "text": [
        " 36\n",
        "chunk"
       ]
      },
      {
       "output_type": "stream",
       "stream": "stdout",
       "text": [
        " 37\n",
        "chunk"
       ]
      },
      {
       "output_type": "stream",
       "stream": "stdout",
       "text": [
        " 38\n",
        "chunk"
       ]
      },
      {
       "output_type": "stream",
       "stream": "stdout",
       "text": [
        " 39\n",
        "chunk"
       ]
      },
      {
       "output_type": "stream",
       "stream": "stdout",
       "text": [
        " 40\n",
        "chunk"
       ]
      },
      {
       "output_type": "stream",
       "stream": "stdout",
       "text": [
        " 41\n",
        "chunk"
       ]
      },
      {
       "output_type": "stream",
       "stream": "stdout",
       "text": [
        " 42\n",
        "chunk"
       ]
      },
      {
       "output_type": "stream",
       "stream": "stdout",
       "text": [
        " 43\n",
        "chunk"
       ]
      },
      {
       "output_type": "stream",
       "stream": "stdout",
       "text": [
        " 44\n"
       ]
      }
     ],
     "prompt_number": 11
    },
    {
     "cell_type": "code",
     "collapsed": false,
     "input": [],
     "language": "python",
     "metadata": {},
     "outputs": []
    }
   ],
   "metadata": {}
  }
 ]
}